{
 "metadata": {
  "language_info": {
   "codemirror_mode": {
    "name": "ipython",
    "version": 3
   },
   "file_extension": ".py",
   "mimetype": "text/x-python",
   "name": "python",
   "nbconvert_exporter": "python",
   "pygments_lexer": "ipython3",
   "version": "3.8.5-final"
  },
  "orig_nbformat": 2,
  "kernelspec": {
   "name": "python38564bit83ab371f0a6d4694b4434ab3deb4ce97",
   "display_name": "Python 3.8.5 64-bit"
  }
 },
 "nbformat": 4,
 "nbformat_minor": 2,
 "cells": [
  {
   "source": [
    "## 모듈 추가"
   ],
   "cell_type": "markdown",
   "metadata": {}
  },
  {
   "cell_type": "code",
   "execution_count": 1,
   "metadata": {},
   "outputs": [],
   "source": [
    "import numpy as np\n",
    "import tensorflow as tf\n",
    "from tensorflow.keras import Sequential\n",
    "from tensorflow.keras.layers import Dense, Conv2D, Dropout, Flatten, BatchNormalization, Input, MaxPool2D, Reshape, Softmax\n",
    "from tensorflow.keras.callbacks import EarlyStopping, ModelCheckpoint\n",
    "import matplotlib.pyplot as plt"
   ]
  },
  {
   "source": [
    "## cifar10 데이터셋 다운로드"
   ],
   "cell_type": "markdown",
   "metadata": {}
  },
  {
   "cell_type": "code",
   "execution_count": 2,
   "metadata": {},
   "outputs": [],
   "source": [
    "(x_train_ori, _), (x_test_ori, _) = tf.keras.datasets.cifar10.load_data()"
   ]
  },
  {
   "source": [
    "## 분할, 통합 함수"
   ],
   "cell_type": "markdown",
   "metadata": {}
  },
  {
   "cell_type": "code",
   "execution_count": 3,
   "metadata": {},
   "outputs": [],
   "source": [
    "def slice(x): return np.array([x[0:16, 0:16], x[0:16, 16:32], x[16:32, 0:16], x[16:32, 16:32]])\n",
    "\n",
    "def together(x):\n",
    "    [t1, t2, t3, t4] = x\n",
    "    return np.concatenate((np.concatenate((t1, t2), axis=1),\n",
    "                           np.concatenate((t3, t4), axis=1)), axis=0)"
   ]
  },
  {
   "source": [
    "## 훈련 세트 전처리"
   ],
   "cell_type": "markdown",
   "metadata": {}
  },
  {
   "cell_type": "code",
   "execution_count": 4,
   "metadata": {},
   "outputs": [],
   "source": [
    "x_train = []\n",
    "y_train = []\n",
    "\n",
    "for i in x_train_ori:\n",
    "    y = np.random.permutation(range(4))\n",
    "    x = slice(i)\n",
    "    x = x[y]\n",
    "    x_train.append(together(x))\n",
    "    y_train.append(y)"
   ]
  },
  {
   "source": [
    "## 테스트 세트 전처리"
   ],
   "cell_type": "markdown",
   "metadata": {}
  },
  {
   "cell_type": "code",
   "execution_count": 5,
   "metadata": {},
   "outputs": [],
   "source": [
    "x_test = []\n",
    "y_test = []\n",
    "\n",
    "for i in x_test_ori:\n",
    "    y = np.random.permutation(range(4))\n",
    "    x = slice(i)\n",
    "    x = x[y]\n",
    "    x_test.append(together(x))\n",
    "    y_test.append(y)"
   ]
  },
  {
   "source": [
    "## 전처리 결과 출력"
   ],
   "cell_type": "markdown",
   "metadata": {}
  },
  {
   "cell_type": "code",
   "execution_count": 6,
   "metadata": {},
   "outputs": [
    {
     "output_type": "execute_result",
     "data": {
      "text/plain": [
       "<module 'matplotlib.pyplot' from 'C:\\\\Users\\\\roharui\\\\AppData\\\\Local\\\\Programs\\\\Python\\\\Python38\\\\lib\\\\site-packages\\\\matplotlib\\\\pyplot.py'>"
      ]
     },
     "metadata": {},
     "execution_count": 6
    },
    {
     "output_type": "display_data",
     "data": {
      "text/plain": "<Figure size 432x288 with 4 Axes>",
      "image/svg+xml": "<?xml version=\"1.0\" encoding=\"utf-8\" standalone=\"no\"?>\r\n<!DOCTYPE svg PUBLIC \"-//W3C//DTD SVG 1.1//EN\"\r\n  \"http://www.w3.org/Graphics/SVG/1.1/DTD/svg11.dtd\">\r\n<!-- Created with matplotlib (https://matplotlib.org/) -->\r\n<svg height=\"250.664375pt\" version=\"1.1\" viewBox=\"0 0 299.354545 250.664375\" width=\"299.354545pt\" xmlns=\"http://www.w3.org/2000/svg\" xmlns:xlink=\"http://www.w3.org/1999/xlink\">\r\n <metadata>\r\n  <rdf:RDF xmlns:cc=\"http://creativecommons.org/ns#\" xmlns:dc=\"http://purl.org/dc/elements/1.1/\" xmlns:rdf=\"http://www.w3.org/1999/02/22-rdf-syntax-ns#\">\r\n   <cc:Work>\r\n    <dc:type rdf:resource=\"http://purl.org/dc/dcmitype/StillImage\"/>\r\n    <dc:date>2020-11-28T19:05:07.074933</dc:date>\r\n    <dc:format>image/svg+xml</dc:format>\r\n    <dc:creator>\r\n     <cc:Agent>\r\n      <dc:title>Matplotlib v3.3.1, https://matplotlib.org/</dc:title>\r\n     </cc:Agent>\r\n    </dc:creator>\r\n   </cc:Work>\r\n  </rdf:RDF>\r\n </metadata>\r\n <defs>\r\n  <style type=\"text/css\">*{stroke-linecap:butt;stroke-linejoin:round;}</style>\r\n </defs>\r\n <g id=\"figure_1\">\r\n  <g id=\"patch_1\">\r\n   <path d=\"M 0 250.664375 \r\nL 299.354545 250.664375 \r\nL 299.354545 0 \r\nL 0 0 \r\nz\r\n\" style=\"fill:none;\"/>\r\n  </g>\r\n  <g id=\"axes_1\">\r\n   <g id=\"patch_2\">\r\n    <path d=\"M 10.7 121.360739 \r\nL 109.536364 121.360739 \r\nL 109.536364 22.524375 \r\nL 10.7 22.524375 \r\nz\r\n\" style=\"fill:#ffffff;\"/>\r\n   </g>\r\n   <g clip-path=\"url(#pb8dec7618b)\">\r\n    <image height=\"99\" id=\"image16865d65e8\" transform=\"scale(1 -1)translate(0 -99)\" width=\"99\" x=\"10.7\" xlink:href=\"data:image/png;base64,\r\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\" y=\"-22.360739\"/>\r\n   </g>\r\n   <g id=\"matplotlib.axis_1\"/>\r\n   <g id=\"matplotlib.axis_2\"/>\r\n   <g id=\"patch_3\">\r\n    <path d=\"M 10.7 121.360739 \r\nL 10.7 22.524375 \r\n\" style=\"fill:none;stroke:#000000;stroke-linecap:square;stroke-linejoin:miter;stroke-width:0.8;\"/>\r\n   </g>\r\n   <g id=\"patch_4\">\r\n    <path d=\"M 109.536364 121.360739 \r\nL 109.536364 22.524375 \r\n\" style=\"fill:none;stroke:#000000;stroke-linecap:square;stroke-linejoin:miter;stroke-width:0.8;\"/>\r\n   </g>\r\n   <g id=\"patch_5\">\r\n    <path d=\"M 10.7 121.360739 \r\nL 109.536364 121.360739 \r\n\" style=\"fill:none;stroke:#000000;stroke-linecap:square;stroke-linejoin:miter;stroke-width:0.8;\"/>\r\n   </g>\r\n   <g id=\"patch_6\">\r\n    <path d=\"M 10.7 22.524375 \r\nL 109.536364 22.524375 \r\n\" style=\"fill:none;stroke:#000000;stroke-linecap:square;stroke-linejoin:miter;stroke-width:0.8;\"/>\r\n   </g>\r\n   <g id=\"text_1\">\r\n    <!-- [2 0 1 3] -->\r\n    <g transform=\"translate(36.742557 16.524375)scale(0.12 -0.12)\">\r\n     <defs>\r\n      <path d=\"M 40.59375 78.40625 \r\nL 40.59375 72.90625 \r\nL 30 72.90625 \r\nL 30 -9.5 \r\nL 40.59375 -9.5 \r\nL 40.59375 -15 \r\nL 21.296875 -15 \r\nL 21.296875 78.40625 \r\nz\r\n\" id=\"NanumBarunGothic-91\"/>\r\n      <path d=\"M 9.09375 57.703125 \r\nQ 8 56.59375 8 58.09375 \r\nL 8 65.59375 \r\nQ 12.203125 68.90625 17.203125 71.203125 \r\nQ 22.203125 73.5 28.90625 73.5 \r\nQ 39.796875 73.5 45.4375 68.546875 \r\nQ 51.09375 63.59375 51.09375 53.40625 \r\nQ 51.09375 50 50 46.890625 \r\nQ 48.90625 43.796875 46.953125 40.640625 \r\nQ 45 37.5 42.25 34.09375 \r\nQ 39.5 30.703125 36.203125 26.703125 \r\nL 15.796875 3.5 \r\nL 15.796875 3.40625 \r\nL 52.203125 3.40625 \r\nL 52.203125 -3.59375 \r\nL 5.5 -3.59375 \r\nL 5.5 3.90625 \r\nL 28.796875 30.09375 \r\nQ 32.703125 35.09375 35.296875 38.4375 \r\nQ 37.90625 41.796875 39.453125 44.34375 \r\nQ 41 46.90625 41.640625 49 \r\nQ 42.296875 51.09375 42.296875 53.59375 \r\nQ 42.296875 59.703125 39.140625 63.09375 \r\nQ 36 66.5 29.09375 66.5 \r\nQ 24.296875 66.5 19.296875 64.25 \r\nQ 14.296875 62 9.09375 57.703125 \r\nz\r\n\" id=\"NanumBarunGothic-50\"/>\r\n      <path id=\"NanumBarunGothic-32\"/>\r\n      <path d=\"M 29.203125 73.5 \r\nQ 41.09375 73.5 47.4375 63.59375 \r\nQ 53.796875 53.703125 53.796875 33.59375 \r\nQ 53.796875 13.59375 47.390625 4.390625 \r\nQ 41 -4.796875 29.203125 -4.796875 \r\nQ 23.296875 -4.796875 18.6875 -2.546875 \r\nQ 14.09375 -0.296875 10.9375 4.390625 \r\nQ 7.796875 9.09375 6.1875 16.34375 \r\nQ 4.59375 23.59375 4.59375 33.59375 \r\nQ 4.59375 53.703125 10.9375 63.59375 \r\nQ 17.296875 73.5 29.203125 73.5 \r\nz\r\nM 29.203125 66.5 \r\nQ 13.296875 66.5 13.296875 33.40625 \r\nQ 13.296875 16.90625 17.25 9.5 \r\nQ 21.203125 2.09375 29.203125 2.09375 \r\nQ 37.09375 2.09375 41.09375 9.5 \r\nQ 45.09375 16.90625 45.09375 33.40625 \r\nQ 45.09375 66.5 29.203125 66.5 \r\nz\r\n\" id=\"NanumBarunGothic-48\"/>\r\n      <path d=\"M 12.203125 55.40625 \r\nL 12.203125 61.59375 \r\nQ 16.296875 63.40625 19.9375 66.046875 \r\nQ 23.59375 68.703125 26.703125 72.203125 \r\nL 35.703125 72.203125 \r\nL 35.703125 -3.59375 \r\nL 27.09375 -3.59375 \r\nL 27.09375 62.796875 \r\nL 27 62.796875 \r\nQ 23.59375 60.09375 20.140625 58.140625 \r\nQ 16.703125 56.203125 13.203125 54.90625 \r\nQ 12.203125 54.5 12.203125 55.40625 \r\nz\r\n\" id=\"NanumBarunGothic-49\"/>\r\n      <path d=\"M 28.703125 -4.5 \r\nQ 22 -4.40625 15.84375 -2.40625 \r\nQ 9.703125 -0.40625 5.90625 3.203125 \r\nL 5.90625 10.40625 \r\nQ 5.90625 11.09375 6.25 11.25 \r\nQ 6.59375 11.40625 7.09375 10.90625 \r\nQ 12.5 6.40625 17.75 4.453125 \r\nQ 23 2.5 28.90625 2.5 \r\nQ 32.203125 2.5 35 3.546875 \r\nQ 37.796875 4.59375 39.890625 6.546875 \r\nQ 42 8.5 43.203125 11.09375 \r\nQ 44.40625 13.703125 44.40625 16.90625 \r\nQ 44.40625 32.40625 25.796875 32.40625 \r\nL 23.09375 32.40625 \r\nL 23.09375 39.5 \r\nL 24.296875 39.5 \r\nQ 27.90625 39.59375 31.203125 40.25 \r\nQ 34.5 40.90625 37 42.453125 \r\nQ 39.5 44 41 46.703125 \r\nQ 42.5 49.40625 42.5 53.703125 \r\nQ 42.5 60.40625 38.546875 63.5 \r\nQ 34.59375 66.59375 28.59375 66.59375 \r\nQ 23.796875 66.59375 18.6875 64.6875 \r\nQ 13.59375 62.796875 9.203125 58.90625 \r\nQ 8.796875 58.59375 8.4375 58.6875 \r\nQ 8.09375 58.796875 8.09375 59.40625 \r\nL 8.09375 66.796875 \r\nQ 9.59375 68.09375 11.6875 69.296875 \r\nQ 13.796875 70.5 16.390625 71.453125 \r\nQ 19 72.40625 22.046875 73 \r\nQ 25.09375 73.59375 28.40625 73.59375 \r\nQ 33.40625 73.59375 37.65625 72.390625 \r\nQ 41.90625 71.203125 44.953125 68.75 \r\nQ 48 66.296875 49.703125 62.640625 \r\nQ 51.40625 59 51.40625 54.203125 \r\nQ 51.40625 50.703125 50.40625 47.75 \r\nQ 49.40625 44.796875 47.59375 42.4375 \r\nQ 45.796875 40.09375 43.296875 38.5 \r\nQ 40.796875 36.90625 37.796875 36.296875 \r\nL 37.796875 36.09375 \r\nQ 45 34.5 49.09375 30.046875 \r\nQ 53.203125 25.59375 53.203125 17.203125 \r\nQ 53.203125 13 51.640625 9.046875 \r\nQ 50.09375 5.09375 47 2.09375 \r\nQ 43.90625 -0.90625 39.34375 -2.703125 \r\nQ 34.796875 -4.5 28.703125 -4.5 \r\nz\r\n\" id=\"NanumBarunGothic-51\"/>\r\n      <path d=\"M 4 78.40625 \r\nL 23.296875 78.40625 \r\nL 23.296875 -15 \r\nL 4 -15 \r\nL 4 -9.5 \r\nL 14.59375 -9.5 \r\nL 14.59375 72.90625 \r\nL 4 72.90625 \r\nz\r\n\" id=\"NanumBarunGothic-93\"/>\r\n     </defs>\r\n     <use xlink:href=\"#NanumBarunGothic-91\"/>\r\n     <use x=\"44.599991\" xlink:href=\"#NanumBarunGothic-50\"/>\r\n     <use x=\"102.899979\" xlink:href=\"#NanumBarunGothic-32\"/>\r\n     <use x=\"125.299973\" xlink:href=\"#NanumBarunGothic-48\"/>\r\n     <use x=\"183.59996\" xlink:href=\"#NanumBarunGothic-32\"/>\r\n     <use x=\"205.999954\" xlink:href=\"#NanumBarunGothic-49\"/>\r\n     <use x=\"264.299942\" xlink:href=\"#NanumBarunGothic-32\"/>\r\n     <use x=\"286.699936\" xlink:href=\"#NanumBarunGothic-51\"/>\r\n     <use x=\"344.999924\" xlink:href=\"#NanumBarunGothic-93\"/>\r\n    </g>\r\n   </g>\r\n  </g>\r\n  <g id=\"axes_2\">\r\n   <g id=\"patch_7\">\r\n    <path d=\"M 193.318182 121.360739 \r\nL 292.154545 121.360739 \r\nL 292.154545 22.524375 \r\nL 193.318182 22.524375 \r\nz\r\n\" style=\"fill:#ffffff;\"/>\r\n   </g>\r\n   <g clip-path=\"url(#p5ed2b25c2b)\">\r\n    <image height=\"99\" id=\"image93f746a016\" transform=\"scale(1 -1)translate(0 -99)\" width=\"99\" x=\"193.318182\" xlink:href=\"data:image/png;base64,\r\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\" y=\"-22.360739\"/>\r\n   </g>\r\n   <g id=\"matplotlib.axis_3\"/>\r\n   <g id=\"matplotlib.axis_4\"/>\r\n   <g id=\"patch_8\">\r\n    <path d=\"M 193.318182 121.360739 \r\nL 193.318182 22.524375 \r\n\" style=\"fill:none;stroke:#000000;stroke-linecap:square;stroke-linejoin:miter;stroke-width:0.8;\"/>\r\n   </g>\r\n   <g id=\"patch_9\">\r\n    <path d=\"M 292.154545 121.360739 \r\nL 292.154545 22.524375 \r\n\" style=\"fill:none;stroke:#000000;stroke-linecap:square;stroke-linejoin:miter;stroke-width:0.8;\"/>\r\n   </g>\r\n   <g id=\"patch_10\">\r\n    <path d=\"M 193.318182 121.360739 \r\nL 292.154545 121.360739 \r\n\" style=\"fill:none;stroke:#000000;stroke-linecap:square;stroke-linejoin:miter;stroke-width:0.8;\"/>\r\n   </g>\r\n   <g id=\"patch_11\">\r\n    <path d=\"M 193.318182 22.524375 \r\nL 292.154545 22.524375 \r\n\" style=\"fill:none;stroke:#000000;stroke-linecap:square;stroke-linejoin:miter;stroke-width:0.8;\"/>\r\n   </g>\r\n   <g id=\"text_2\">\r\n    <!-- [2 1 0 3] -->\r\n    <g transform=\"translate(219.360739 16.524375)scale(0.12 -0.12)\">\r\n     <use xlink:href=\"#NanumBarunGothic-91\"/>\r\n     <use x=\"44.599991\" xlink:href=\"#NanumBarunGothic-50\"/>\r\n     <use x=\"102.899979\" xlink:href=\"#NanumBarunGothic-32\"/>\r\n     <use x=\"125.299973\" xlink:href=\"#NanumBarunGothic-49\"/>\r\n     <use x=\"183.59996\" xlink:href=\"#NanumBarunGothic-32\"/>\r\n     <use x=\"205.999954\" xlink:href=\"#NanumBarunGothic-48\"/>\r\n     <use x=\"264.299942\" xlink:href=\"#NanumBarunGothic-32\"/>\r\n     <use x=\"286.699936\" xlink:href=\"#NanumBarunGothic-51\"/>\r\n     <use x=\"344.999924\" xlink:href=\"#NanumBarunGothic-93\"/>\r\n    </g>\r\n   </g>\r\n  </g>\r\n  <g id=\"axes_3\">\r\n   <g id=\"patch_12\">\r\n    <path d=\"M 10.7 239.964375 \r\nL 109.536364 239.964375 \r\nL 109.536364 141.128011 \r\nL 10.7 141.128011 \r\nz\r\n\" style=\"fill:#ffffff;\"/>\r\n   </g>\r\n   <g clip-path=\"url(#p3dbfb31bab)\">\r\n    <image height=\"99\" id=\"image178a9e7eae\" transform=\"scale(1 -1)translate(0 -99)\" width=\"99\" x=\"10.7\" xlink:href=\"data:image/png;base64,\r\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\" y=\"-140.964375\"/>\r\n   </g>\r\n   <g id=\"matplotlib.axis_5\"/>\r\n   <g id=\"matplotlib.axis_6\"/>\r\n   <g id=\"patch_13\">\r\n    <path d=\"M 10.7 239.964375 \r\nL 10.7 141.128011 \r\n\" style=\"fill:none;stroke:#000000;stroke-linecap:square;stroke-linejoin:miter;stroke-width:0.8;\"/>\r\n   </g>\r\n   <g id=\"patch_14\">\r\n    <path d=\"M 109.536364 239.964375 \r\nL 109.536364 141.128011 \r\n\" style=\"fill:none;stroke:#000000;stroke-linecap:square;stroke-linejoin:miter;stroke-width:0.8;\"/>\r\n   </g>\r\n   <g id=\"patch_15\">\r\n    <path d=\"M 10.7 239.964375 \r\nL 109.536364 239.964375 \r\n\" style=\"fill:none;stroke:#000000;stroke-linecap:square;stroke-linejoin:miter;stroke-width:0.8;\"/>\r\n   </g>\r\n   <g id=\"patch_16\">\r\n    <path d=\"M 10.7 141.128011 \r\nL 109.536364 141.128011 \r\n\" style=\"fill:none;stroke:#000000;stroke-linecap:square;stroke-linejoin:miter;stroke-width:0.8;\"/>\r\n   </g>\r\n   <g id=\"text_3\">\r\n    <!-- [0 1 3 2] -->\r\n    <g transform=\"translate(36.742557 135.128011)scale(0.12 -0.12)\">\r\n     <use xlink:href=\"#NanumBarunGothic-91\"/>\r\n     <use x=\"44.599991\" xlink:href=\"#NanumBarunGothic-48\"/>\r\n     <use x=\"102.899979\" xlink:href=\"#NanumBarunGothic-32\"/>\r\n     <use x=\"125.299973\" xlink:href=\"#NanumBarunGothic-49\"/>\r\n     <use x=\"183.59996\" xlink:href=\"#NanumBarunGothic-32\"/>\r\n     <use x=\"205.999954\" xlink:href=\"#NanumBarunGothic-51\"/>\r\n     <use x=\"264.299942\" xlink:href=\"#NanumBarunGothic-32\"/>\r\n     <use x=\"286.699936\" xlink:href=\"#NanumBarunGothic-50\"/>\r\n     <use x=\"344.999924\" xlink:href=\"#NanumBarunGothic-93\"/>\r\n    </g>\r\n   </g>\r\n  </g>\r\n  <g id=\"axes_4\">\r\n   <g id=\"patch_17\">\r\n    <path d=\"M 193.318182 239.964375 \r\nL 292.154545 239.964375 \r\nL 292.154545 141.128011 \r\nL 193.318182 141.128011 \r\nz\r\n\" style=\"fill:#ffffff;\"/>\r\n   </g>\r\n   <g clip-path=\"url(#p5fe00abed5)\">\r\n    <image height=\"99\" id=\"image08b15043c1\" transform=\"scale(1 -1)translate(0 -99)\" width=\"99\" x=\"193.318182\" xlink:href=\"data:image/png;base64,\r\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\" y=\"-140.964375\"/>\r\n   </g>\r\n   <g id=\"matplotlib.axis_7\"/>\r\n   <g id=\"matplotlib.axis_8\"/>\r\n   <g id=\"patch_18\">\r\n    <path d=\"M 193.318182 239.964375 \r\nL 193.318182 141.128011 \r\n\" style=\"fill:none;stroke:#000000;stroke-linecap:square;stroke-linejoin:miter;stroke-width:0.8;\"/>\r\n   </g>\r\n   <g id=\"patch_19\">\r\n    <path d=\"M 292.154545 239.964375 \r\nL 292.154545 141.128011 \r\n\" style=\"fill:none;stroke:#000000;stroke-linecap:square;stroke-linejoin:miter;stroke-width:0.8;\"/>\r\n   </g>\r\n   <g id=\"patch_20\">\r\n    <path d=\"M 193.318182 239.964375 \r\nL 292.154545 239.964375 \r\n\" style=\"fill:none;stroke:#000000;stroke-linecap:square;stroke-linejoin:miter;stroke-width:0.8;\"/>\r\n   </g>\r\n   <g id=\"patch_21\">\r\n    <path d=\"M 193.318182 141.128011 \r\nL 292.154545 141.128011 \r\n\" style=\"fill:none;stroke:#000000;stroke-linecap:square;stroke-linejoin:miter;stroke-width:0.8;\"/>\r\n   </g>\r\n   <g id=\"text_4\">\r\n    <!-- [0 3 1 2] -->\r\n    <g transform=\"translate(219.360739 135.128011)scale(0.12 -0.12)\">\r\n     <use xlink:href=\"#NanumBarunGothic-91\"/>\r\n     <use x=\"44.599991\" xlink:href=\"#NanumBarunGothic-48\"/>\r\n     <use x=\"102.899979\" xlink:href=\"#NanumBarunGothic-32\"/>\r\n     <use x=\"125.299973\" xlink:href=\"#NanumBarunGothic-51\"/>\r\n     <use x=\"183.59996\" xlink:href=\"#NanumBarunGothic-32\"/>\r\n     <use x=\"205.999954\" xlink:href=\"#NanumBarunGothic-49\"/>\r\n     <use x=\"264.299942\" xlink:href=\"#NanumBarunGothic-32\"/>\r\n     <use x=\"286.699936\" xlink:href=\"#NanumBarunGothic-50\"/>\r\n     <use x=\"344.999924\" xlink:href=\"#NanumBarunGothic-93\"/>\r\n    </g>\r\n   </g>\r\n  </g>\r\n </g>\r\n <defs>\r\n  <clipPath id=\"pb8dec7618b\">\r\n   <rect height=\"98.836364\" width=\"98.836364\" x=\"10.7\" y=\"22.524375\"/>\r\n  </clipPath>\r\n  <clipPath id=\"p5ed2b25c2b\">\r\n   <rect height=\"98.836364\" width=\"98.836364\" x=\"193.318182\" y=\"22.524375\"/>\r\n  </clipPath>\r\n  <clipPath id=\"p3dbfb31bab\">\r\n   <rect height=\"98.836364\" width=\"98.836364\" x=\"10.7\" y=\"141.128011\"/>\r\n  </clipPath>\r\n  <clipPath id=\"p5fe00abed5\">\r\n   <rect height=\"98.836364\" width=\"98.836364\" x=\"193.318182\" y=\"141.128011\"/>\r\n  </clipPath>\r\n </defs>\r\n</svg>\r\n",
      "image/png": "[encoded data removed]"
     },
     "metadata": {}
    }
   ],
   "source": [
    "for num, i in enumerate(x_test[:4]):\n",
    "    ax = plt.subplot(2, 2, num + 1)\n",
    "    ax.set_title(y_test[num])\n",
    "    ax.set_xticks([])\n",
    "    ax.set_yticks([])\n",
    "    ax.imshow(i)\n",
    "plt"
   ]
  },
  {
   "source": [
    "## 데이터셋을 넘파이 배열로"
   ],
   "cell_type": "markdown",
   "metadata": {}
  },
  {
   "cell_type": "code",
   "execution_count": 7,
   "metadata": {},
   "outputs": [],
   "source": [
    "x_train = np.array(x_train)\n",
    "x_test  = np.array(x_test)\n",
    "y_train = np.array(y_train)\n",
    "y_test  = np.array(y_test)"
   ]
  },
  {
   "source": [
    "## 모델 설계"
   ],
   "cell_type": "markdown",
   "metadata": {}
  },
  {
   "cell_type": "code",
   "execution_count": 8,
   "metadata": {},
   "outputs": [],
   "source": [
    "model = Sequential(name=\"Shuffle_Finder\")\n",
    "\n",
    "model.add(Input(shape=(32, 32, 3)))\n",
    "model.add(Conv2D(32, (2, 2), padding='same', activation='relu'))\n",
    "model.add(BatchNormalization(-1))\n",
    "model.add(Conv2D(16, (2, 2), padding='same', activation='relu'))\n",
    "model.add(BatchNormalization(-1))\n",
    "model.add(MaxPool2D((2, 2)))\n",
    "model.add(Conv2D(32, (2, 2), padding='same', activation='relu'))\n",
    "model.add(BatchNormalization(-1))\n",
    "model.add(Conv2D(16, (2, 2), padding='same', activation='relu'))\n",
    "model.add(BatchNormalization(-1))\n",
    "model.add(MaxPool2D((2, 2)))\n",
    "model.add(Conv2D(32, (2, 2), padding='same', activation='relu'))\n",
    "model.add(BatchNormalization(-1))\n",
    "model.add(MaxPool2D((2, 2)))\n",
    "model.add(Flatten())\n",
    "model.add(Dropout(0.25))\n",
    "model.add(Dense(300))\n",
    "model.add(Dropout(0.25))\n",
    "model.add(Dense(100))\n",
    "model.add(Dropout(0.25))\n",
    "model.add(Dense(16))\n",
    "model.add(Reshape((4, 4)))\n",
    "model.add(Softmax(axis=2))"
   ]
  },
  {
   "source": [
    "## 모델 개요"
   ],
   "cell_type": "markdown",
   "metadata": {}
  },
  {
   "cell_type": "code",
   "execution_count": 9,
   "metadata": {},
   "outputs": [
    {
     "output_type": "stream",
     "name": "stdout",
     "text": [
      "Model: \"Shuffle_Finder\"\n_________________________________________________________________\nLayer (type)                 Output Shape              Param #   \n=================================================================\nconv2d (Conv2D)              (None, 32, 32, 32)        416       \n_________________________________________________________________\nbatch_normalization (BatchNo (None, 32, 32, 32)        128       \n_________________________________________________________________\nconv2d_1 (Conv2D)            (None, 32, 32, 16)        2064      \n_________________________________________________________________\nbatch_normalization_1 (Batch (None, 32, 32, 16)        64        \n_________________________________________________________________\nmax_pooling2d (MaxPooling2D) (None, 16, 16, 16)        0         \n_________________________________________________________________\nconv2d_2 (Conv2D)            (None, 16, 16, 32)        2080      \n_________________________________________________________________\nbatch_normalization_2 (Batch (None, 16, 16, 32)        128       \n_________________________________________________________________\nconv2d_3 (Conv2D)            (None, 16, 16, 16)        2064      \n_________________________________________________________________\nbatch_normalization_3 (Batch (None, 16, 16, 16)        64        \n_________________________________________________________________\nmax_pooling2d_1 (MaxPooling2 (None, 8, 8, 16)          0         \n_________________________________________________________________\nconv2d_4 (Conv2D)            (None, 8, 8, 32)          2080      \n_________________________________________________________________\nbatch_normalization_4 (Batch (None, 8, 8, 32)          128       \n_________________________________________________________________\nmax_pooling2d_2 (MaxPooling2 (None, 4, 4, 32)          0         \n_________________________________________________________________\nflatten (Flatten)            (None, 512)               0         \n_________________________________________________________________\ndropout (Dropout)            (None, 512)               0         \n_________________________________________________________________\ndense (Dense)                (None, 300)               153900    \n_________________________________________________________________\ndropout_1 (Dropout)          (None, 300)               0         \n_________________________________________________________________\ndense_1 (Dense)              (None, 100)               30100     \n_________________________________________________________________\ndropout_2 (Dropout)          (None, 100)               0         \n_________________________________________________________________\ndense_2 (Dense)              (None, 16)                1616      \n_________________________________________________________________\nreshape (Reshape)            (None, 4, 4)              0         \n_________________________________________________________________\nsoftmax (Softmax)            (None, 4, 4)              0         \n=================================================================\nTotal params: 194,832\nTrainable params: 194,576\nNon-trainable params: 256\n_________________________________________________________________\n"
     ]
    }
   ],
   "source": [
    "model.summary()"
   ]
  },
  {
   "source": [
    "## 모델 컴파일"
   ],
   "cell_type": "markdown",
   "metadata": {}
  },
  {
   "cell_type": "code",
   "execution_count": 10,
   "metadata": {},
   "outputs": [],
   "source": [
    "model.compile(optimizer='adam', loss=\"sparse_categorical_crossentropy\", metrics=['acc'],)"
   ]
  },
  {
   "source": [
    "## 체크포인트"
   ],
   "cell_type": "markdown",
   "metadata": {}
  },
  {
   "cell_type": "code",
   "execution_count": 11,
   "metadata": {},
   "outputs": [],
   "source": [
    "checkpoint_filepath = '''\n",
    "checkpoint/checkpoint-epoch-{epoch:02d}-loss-{loss:.2f}-trial.ckpt\n",
    "'''\n",
    "model_checkpoint_callback = tf.keras.callbacks.ModelCheckpoint(\n",
    "    filepath=checkpoint_filepath,\n",
    "    save_weights_only=True,\n",
    "    monitor='loss',       \n",
    "    verbose=1,            \n",
    "    save_best_only=True,  \n",
    "    mode='auto'           \n",
    ")"
   ]
  },
  {
   "source": [
    "## 모델 학습"
   ],
   "cell_type": "markdown",
   "metadata": {}
  },
  {
   "source": [
    "model.fit(x_train, y_train, batch_size=1000, epochs=20, callbacks=[model_checkpoint_callback])"
   ],
   "cell_type": "code",
   "metadata": {},
   "execution_count": null,
   "outputs": []
  },
  {
   "source": [
    "## 모델 불러오기"
   ],
   "cell_type": "markdown",
   "metadata": {}
  },
  {
   "cell_type": "code",
   "execution_count": 24,
   "metadata": {},
   "outputs": [],
   "source": [
    "model.load_weights(\"checkpoint/weight.h5\")"
   ]
  },
  {
   "source": [
    "## 테스트 셋으로 성능 측정"
   ],
   "cell_type": "markdown",
   "metadata": {}
  },
  {
   "cell_type": "code",
   "execution_count": 25,
   "metadata": {},
   "outputs": [
    {
     "output_type": "stream",
     "name": "stdout",
     "text": [
      "334/334 [==============================] - 3s 9ms/step - loss: 0.5764 - acc: 0.7753\n"
     ]
    },
    {
     "output_type": "execute_result",
     "data": {
      "text/plain": [
       "[0.5764296650886536, 0.7753250002861023]"
      ]
     },
     "metadata": {},
     "execution_count": 25
    }
   ],
   "source": [
    "model.evaluate(x_test, y_test, batch_size=30)"
   ]
  },
  {
   "source": [
    "## 테스트 하기"
   ],
   "cell_type": "markdown",
   "metadata": {}
  },
  {
   "cell_type": "code",
   "execution_count": 29,
   "metadata": {},
   "outputs": [
    {
     "output_type": "stream",
     "name": "stdout",
     "text": [
      "예측 값 :  [3 0 1 2]\n실제 값 :  [2 0 1 3]\n=========\n예측 값 :  [2 1 0 3]\n실제 값 :  [2 1 0 3]\n=========\n예측 값 :  [1 1 3 2]\n실제 값 :  [0 1 3 2]\n=========\n예측 값 :  [0 1 3 2]\n실제 값 :  [0 3 1 2]\n=========\n예측 값 :  [3 1 2 0]\n실제 값 :  [3 1 2 0]\n=========\n예측 값 :  [2 1 3 2]\n실제 값 :  [3 1 0 2]\n=========\n예측 값 :  [1 2 3 0]\n실제 값 :  [1 3 2 0]\n=========\n예측 값 :  [3 0 1 2]\n실제 값 :  [2 1 0 3]\n=========\n예측 값 :  [2 0 1 3]\n실제 값 :  [3 2 1 0]\n=========\n예측 값 :  [3 1 0 2]\n실제 값 :  [3 1 0 2]\n=========\n"
     ]
    }
   ],
   "source": [
    "result = model.predict(x_test[:10]).argmax(axis=2)\n",
    "for x, y in zip(result, y_test[:10]):\n",
    "    print(\"예측 값 : \", x)\n",
    "    print(\"실제 값 : \", y)\n",
    "    print(\"=========\")"
   ]
  },
  {
   "cell_type": "code",
   "execution_count": null,
   "metadata": {},
   "outputs": [],
   "source": []
  }
 ]
}